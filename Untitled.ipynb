{
 "cells": [
  {
   "cell_type": "code",
   "execution_count": 16,
   "metadata": {
    "scrolled": true
   },
   "outputs": [
    {
     "name": "stdout",
     "output_type": "stream",
     "text": [
      "700.0\n",
      "200.0\n",
      "200.0\n",
      "200.0\n",
      "200.0\n",
      "200.0\n",
      "1776.0\n",
      "777.0\n",
      "555.0\n",
      "777.0\n",
      "888.0\n",
      "555.0\n",
      "{'101000': 777.0, '102000': 555.0, '103000': 777.0, '104000': 888.0, '105000': 1776.0, '106000': 555.0}\n"
     ]
    }
   ],
   "source": [
    "slov = {}\n",
    "arr = []\n",
    "with open('70601_.txt') as f:\n",
    "    for line in f:\n",
    "        skl = line[:15]+line[16:22]\n",
    "        if skl not in slov:\n",
    "            slov[skl]=float(line[23:].strip())\n",
    "        else: \n",
    "            slov[skl]=float(slov[skl])+float(line[23:].strip())\n",
    "#print(slov)\n",
    "for el in slov:\n",
    "    if el[:15] not in arr:\n",
    "        arr.append(el[:15])\n",
    "#print(arr)\n",
    "slov2 = {}\n",
    "for elem in arr:\n",
    "    for el in slov:\n",
    "        if elem == el[:15]:\n",
    "            #slov2[elem][el[16:22]]=slov[el]\n",
    "            slov2[el[15:21]]=slov[el]\n",
    "            print(slov[el])\n",
    "            #print('elem=',elem)\n",
    "            \n",
    "print(slov2)\n"
   ]
  },
  {
   "cell_type": "code",
   "execution_count": null,
   "metadata": {},
   "outputs": [],
   "source": []
  },
  {
   "cell_type": "code",
   "execution_count": null,
   "metadata": {},
   "outputs": [],
   "source": []
  }
 ],
 "metadata": {
  "kernelspec": {
   "display_name": "Python 3",
   "language": "python",
   "name": "python3"
  },
  "language_info": {
   "codemirror_mode": {
    "name": "ipython",
    "version": 3
   },
   "file_extension": ".py",
   "mimetype": "text/x-python",
   "name": "python",
   "nbconvert_exporter": "python",
   "pygments_lexer": "ipython3",
   "version": "3.6.5"
  }
 },
 "nbformat": 4,
 "nbformat_minor": 2
}
