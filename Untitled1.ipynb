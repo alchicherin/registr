{
 "cells": [
  {
   "cell_type": "code",
   "execution_count": 56,
   "metadata": {
    "scrolled": false
   },
   "outputs": [
    {
     "name": "stdout",
     "output_type": "stream",
     "text": [
      "b= {'70601_______123': {'101000': 700.0, '102000': 200.0, '103000': 200.0, '104000': 200.0, '105000': 200.0, '106000': 200.0}, '70601_______124': {'105000': 1776.0, '101000': 778.0, '102000': 555.0, '103000': 777.0, '104000': 888.0}, '70601_______126': {'777777': 1000.0}}\n",
      "f= 200.0\n",
      "i= 70601_______123 j= 101000 itog= 700.0\n",
      "i= 70601_______123 j= 102000 itog= 200.0\n",
      "i= 70601_______123 j= 103000 itog= 200.0\n",
      "i= 70601_______123 j= 104000 itog= 200.0\n",
      "i= 70601_______123 j= 105000 itog= 200.0\n",
      "i= 70601_______123 j= 106000 itog= 200.0\n",
      "i= 70601_______124 j= 105000 itog= 1776.0\n",
      "i= 70601_______124 j= 101000 itog= 778.0\n",
      "i= 70601_______124 j= 102000 itog= 555.0\n",
      "i= 70601_______124 j= 103000 itog= 777.0\n",
      "i= 70601_______124 j= 104000 itog= 888.0\n",
      "i= 70601_______126 j= 777777 itog= 1000.0\n"
     ]
    }
   ],
   "source": [
    "a = {}\n",
    "b = {}\n",
    "arr = []\n",
    "with open('70601_.txt') as f:\n",
    "    for line in f:\n",
    "        if line[:15] not in arr:\n",
    "            arr.append(line[:15])\n",
    "        \n",
    "        \n",
    "for el in arr:\n",
    "    with open('70601_.txt') as f1:\n",
    "        for line1 in f1:\n",
    "            if line1[:15].strip() == el.strip():\n",
    "                #print(line1[:15], el, line1[16:22],line1[23:30])\n",
    "                try:\n",
    "                    x = a[line1[16:22]]\n",
    "                except:\n",
    "                    x=0\n",
    "                #print('x=',x)\n",
    "                a[line1[16:22]] = x + float(line1[23:30].strip())\n",
    "                #print('v=',a[line1[16:22]])\n",
    "                #print(a)\n",
    "    b[el]=a; a={}\n",
    "#print('a=',a)\n",
    "print('b=',b)\n",
    "print('f=',b['70601_______123']['103000'])\n",
    "for i in b:\n",
    "    with open(str(i)+'.txt','w') as f_write:\n",
    "        \n",
    "        for j in b[i]:\n",
    "            print('i=',i,'j=',j,'itog=',b[i][j])\n",
    "            f_write.write(i+\"&&\"+j+\"&&\"+str(b[i][j])+'\\n')\n",
    "#arr"
   ]
  },
  {
   "cell_type": "code",
   "execution_count": null,
   "metadata": {},
   "outputs": [],
   "source": []
  },
  {
   "cell_type": "code",
   "execution_count": null,
   "metadata": {},
   "outputs": [],
   "source": []
  }
 ],
 "metadata": {
  "kernelspec": {
   "display_name": "Python 3",
   "language": "python",
   "name": "python3"
  },
  "language_info": {
   "codemirror_mode": {
    "name": "ipython",
    "version": 3
   },
   "file_extension": ".py",
   "mimetype": "text/x-python",
   "name": "python",
   "nbconvert_exporter": "python",
   "pygments_lexer": "ipython3",
   "version": "3.6.5"
  }
 },
 "nbformat": 4,
 "nbformat_minor": 2
}
